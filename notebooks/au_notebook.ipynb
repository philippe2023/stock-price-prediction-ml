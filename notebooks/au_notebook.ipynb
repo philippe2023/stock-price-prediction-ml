{
 "cells": [
  {
   "cell_type": "code",
   "execution_count": 2,
   "id": "dc2e9b14-a6e8-456f-b738-f7fac02b871d",
   "metadata": {},
   "outputs": [],
   "source": [
    "import yfinance as yf"
   ]
  },
  {
   "cell_type": "code",
   "execution_count": 4,
   "id": "6691999d-d4c2-4066-9651-12b5c8e69d89",
   "metadata": {},
   "outputs": [
    {
     "name": "stderr",
     "output_type": "stream",
     "text": [
      "[*********************100%***********************]  1 of 1 completed"
     ]
    },
    {
     "name": "stdout",
     "output_type": "stream",
     "text": [
      "                 Open       High        Low      Close  Adj Close     Volume\n",
      "Date                                                                        \n",
      "2013-01-02  19.779285  19.821428  19.343929  19.608213  16.705698  560518000\n",
      "2013-01-03  19.567142  19.631071  19.321428  19.360714  16.494839  352965200\n",
      "2013-01-04  19.177500  19.236786  18.779642  18.821428  16.035378  594333600\n",
      "2013-01-07  18.642857  18.903570  18.400000  18.710714  15.941051  484156400\n",
      "2013-01-08  18.900356  18.996071  18.616072  18.761070  15.983951  458707200\n"
     ]
    },
    {
     "name": "stderr",
     "output_type": "stream",
     "text": [
      "\n"
     ]
    }
   ],
   "source": [
    "data = yf.download('AAPL', start='2013-01-01', end='2023-12-31')\n",
    "print(data.head())"
   ]
  }
 ],
 "metadata": {
  "kernelspec": {
   "display_name": "Python 3 (ipykernel)",
   "language": "python",
   "name": "python3"
  },
  "language_info": {
   "codemirror_mode": {
    "name": "ipython",
    "version": 3
   },
   "file_extension": ".py",
   "mimetype": "text/x-python",
   "name": "python",
   "nbconvert_exporter": "python",
   "pygments_lexer": "ipython3",
   "version": "3.12.4"
  }
 },
 "nbformat": 4,
 "nbformat_minor": 5
}
